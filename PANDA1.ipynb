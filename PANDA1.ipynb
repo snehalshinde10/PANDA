{
 "cells": [
  {
   "cell_type": "code",
   "execution_count": 1,
   "id": "bdf38bad",
   "metadata": {},
   "outputs": [
    {
     "name": "stdout",
     "output_type": "stream",
     "text": [
      "ram      1\n",
      "sita     2\n",
      "riya     3\n",
      "priya    4\n",
      "rocky    5\n",
      "dtype: int64\n"
     ]
    }
   ],
   "source": [
    "import pandas as pd\n",
    "di={'ram':1,'sita':2,'riya':3,'priya':4,'rocky':5}\n",
    "friends=pd.Series(di)\n",
    "print(friends)"
   ]
  },
  {
   "cell_type": "code",
   "execution_count": 3,
   "id": "b52aa4f2",
   "metadata": {},
   "outputs": [
    {
     "name": "stdout",
     "output_type": "stream",
     "text": [
      "         2014  2015  2016   2017\n",
      "Madhu     200  3500  4900  56000\n",
      "Kusum     137  2567  5698  45670\n",
      "Kinshuk   397  6780  9100  67920\n",
      "Ankit     450  1200  7060  67250\n"
     ]
    }
   ],
   "source": [
    "import pandas as pd\n",
    "di_s={2014:[200,137,397,450],2015:[3500,2567,6780,1200],2016:[4900,5698,9100,7060],2017:[56000,45670,67920,67250]}\n",
    "sales=pd.DataFrame(di_s,index=['Madhu','Kusum','Kinshuk','Ankit'])\n",
    "print(sales)"
   ]
  },
  {
   "cell_type": "code",
   "execution_count": 21,
   "id": "03fa3534",
   "metadata": {},
   "outputs": [
    {
     "data": {
      "text/plain": [
       "Madhu      False\n",
       "Kusum       True\n",
       "Kinshuk     True\n",
       "Ankit       True\n",
       "Name: 2016, dtype: bool"
      ]
     },
     "execution_count": 21,
     "metadata": {},
     "output_type": "execute_result"
    }
   ],
   "source": [
    "(sales[2016]>5500)"
   ]
  },
  {
   "cell_type": "code",
   "execution_count": 22,
   "id": "d34b38c2",
   "metadata": {},
   "outputs": [
    {
     "data": {
      "text/plain": [
       "False"
      ]
     },
     "execution_count": 22,
     "metadata": {},
     "output_type": "execute_result"
    }
   ],
   "source": [
    "(sales[2016]>5500).all()"
   ]
  },
  {
   "cell_type": "code",
   "execution_count": 27,
   "id": "2487787b",
   "metadata": {},
   "outputs": [
    {
     "data": {
      "text/html": [
       "<div>\n",
       "<style scoped>\n",
       "    .dataframe tbody tr th:only-of-type {\n",
       "        vertical-align: middle;\n",
       "    }\n",
       "\n",
       "    .dataframe tbody tr th {\n",
       "        vertical-align: top;\n",
       "    }\n",
       "\n",
       "    .dataframe thead th {\n",
       "        text-align: right;\n",
       "    }\n",
       "</style>\n",
       "<table border=\"1\" class=\"dataframe\">\n",
       "  <thead>\n",
       "    <tr style=\"text-align: right;\">\n",
       "      <th></th>\n",
       "      <th>2014</th>\n",
       "      <th>2015</th>\n",
       "      <th>2016</th>\n",
       "      <th>2017</th>\n",
       "    </tr>\n",
       "  </thead>\n",
       "  <tbody>\n",
       "    <tr>\n",
       "      <th>Kusum</th>\n",
       "      <td>137</td>\n",
       "      <td>2567</td>\n",
       "      <td>5698</td>\n",
       "      <td>45670</td>\n",
       "    </tr>\n",
       "    <tr>\n",
       "      <th>Kinshuk</th>\n",
       "      <td>397</td>\n",
       "      <td>6780</td>\n",
       "      <td>9100</td>\n",
       "      <td>67920</td>\n",
       "    </tr>\n",
       "    <tr>\n",
       "      <th>Ankit</th>\n",
       "      <td>450</td>\n",
       "      <td>1200</td>\n",
       "      <td>7060</td>\n",
       "      <td>67250</td>\n",
       "    </tr>\n",
       "  </tbody>\n",
       "</table>\n",
       "</div>"
      ],
      "text/plain": [
       "         2014  2015  2016   2017\n",
       "Kusum     137  2567  5698  45670\n",
       "Kinshuk   397  6780  9100  67920\n",
       "Ankit     450  1200  7060  67250"
      ]
     },
     "execution_count": 27,
     "metadata": {},
     "output_type": "execute_result"
    }
   ],
   "source": [
    "sales.iloc[1:4,:]"
   ]
  },
  {
   "cell_type": "code",
   "execution_count": 25,
   "id": "45fd20d6",
   "metadata": {},
   "outputs": [
    {
     "data": {
      "text/html": [
       "<div>\n",
       "<style scoped>\n",
       "    .dataframe tbody tr th:only-of-type {\n",
       "        vertical-align: middle;\n",
       "    }\n",
       "\n",
       "    .dataframe tbody tr th {\n",
       "        vertical-align: top;\n",
       "    }\n",
       "\n",
       "    .dataframe thead th {\n",
       "        text-align: right;\n",
       "    }\n",
       "</style>\n",
       "<table border=\"1\" class=\"dataframe\">\n",
       "  <thead>\n",
       "    <tr style=\"text-align: right;\">\n",
       "      <th></th>\n",
       "      <th>2014</th>\n",
       "      <th>2015</th>\n",
       "      <th>2016</th>\n",
       "      <th>2017</th>\n",
       "    </tr>\n",
       "  </thead>\n",
       "  <tbody>\n",
       "    <tr>\n",
       "      <th>Kusum</th>\n",
       "      <td>137</td>\n",
       "      <td>2567</td>\n",
       "      <td>5698</td>\n",
       "      <td>45670</td>\n",
       "    </tr>\n",
       "    <tr>\n",
       "      <th>Kinshuk</th>\n",
       "      <td>397</td>\n",
       "      <td>6780</td>\n",
       "      <td>9100</td>\n",
       "      <td>67920</td>\n",
       "    </tr>\n",
       "    <tr>\n",
       "      <th>Ankit</th>\n",
       "      <td>450</td>\n",
       "      <td>1200</td>\n",
       "      <td>7060</td>\n",
       "      <td>67250</td>\n",
       "    </tr>\n",
       "  </tbody>\n",
       "</table>\n",
       "</div>"
      ],
      "text/plain": [
       "         2014  2015  2016   2017\n",
       "Kusum     137  2567  5698  45670\n",
       "Kinshuk   397  6780  9100  67920\n",
       "Ankit     450  1200  7060  67250"
      ]
     },
     "execution_count": 25,
     "metadata": {},
     "output_type": "execute_result"
    }
   ],
   "source": [
    "sales.loc['Kusum':'Ankit',:]"
   ]
  },
  {
   "cell_type": "code",
   "execution_count": 5,
   "id": "27afe2b5",
   "metadata": {},
   "outputs": [
    {
     "data": {
      "text/plain": [
       "Index(['Madhu', 'Kusum', 'Kinshuk', 'Ankit'], dtype='object')"
      ]
     },
     "execution_count": 5,
     "metadata": {},
     "output_type": "execute_result"
    }
   ],
   "source": [
    "sales.index"
   ]
  },
  {
   "cell_type": "code",
   "execution_count": 6,
   "id": "bd3256b9",
   "metadata": {},
   "outputs": [
    {
     "data": {
      "text/plain": [
       "2014    int64\n",
       "2015    int64\n",
       "2016    int64\n",
       "2017    int64\n",
       "dtype: object"
      ]
     },
     "execution_count": 6,
     "metadata": {},
     "output_type": "execute_result"
    }
   ],
   "source": [
    "sales.dtypes"
   ]
  },
  {
   "cell_type": "code",
   "execution_count": 7,
   "id": "ed7481cf",
   "metadata": {},
   "outputs": [
    {
     "data": {
      "text/plain": [
       "2"
      ]
     },
     "execution_count": 7,
     "metadata": {},
     "output_type": "execute_result"
    }
   ],
   "source": [
    "sales.ndim"
   ]
  },
  {
   "cell_type": "code",
   "execution_count": 8,
   "id": "8707d114",
   "metadata": {},
   "outputs": [
    {
     "data": {
      "text/plain": [
       "(4, 4)"
      ]
     },
     "execution_count": 8,
     "metadata": {},
     "output_type": "execute_result"
    }
   ],
   "source": [
    "sales.shape"
   ]
  },
  {
   "cell_type": "code",
   "execution_count": 9,
   "id": "ee1c7f4b",
   "metadata": {},
   "outputs": [
    {
     "data": {
      "text/plain": [
       "16"
      ]
     },
     "execution_count": 9,
     "metadata": {},
     "output_type": "execute_result"
    }
   ],
   "source": [
    "sales.size"
   ]
  },
  {
   "cell_type": "code",
   "execution_count": 10,
   "id": "16f051be",
   "metadata": {},
   "outputs": [
    {
     "data": {
      "text/plain": [
       "array([[  200,  3500,  4900, 56000],\n",
       "       [  137,  2567,  5698, 45670],\n",
       "       [  397,  6780,  9100, 67920],\n",
       "       [  450,  1200,  7060, 67250]], dtype=int64)"
      ]
     },
     "execution_count": 10,
     "metadata": {},
     "output_type": "execute_result"
    }
   ],
   "source": [
    "sales.values"
   ]
  },
  {
   "cell_type": "code",
   "execution_count": 12,
   "id": "26dbdd23",
   "metadata": {},
   "outputs": [
    {
     "name": "stdout",
     "output_type": "stream",
     "text": [
      "0     3\n",
      "1     5\n",
      "2     6\n",
      "4    10\n",
      "5    12\n",
      "dtype: int64 0    12\n",
      "2    10\n",
      "3    15\n",
      "4    20\n",
      "6    27\n",
      "dtype: int64\n"
     ]
    }
   ],
   "source": [
    "s1=pd.Series(data=[3,5,6,10,12],index=[0,1,2,4,5])\n",
    "s2=pd.Series(data=[12,10,15,20,27],index=[0,2,3,4,6])\n",
    "print(s1,s2)"
   ]
  },
  {
   "cell_type": "code",
   "execution_count": 13,
   "id": "5013ae11",
   "metadata": {},
   "outputs": [
    {
     "data": {
      "text/plain": [
       "0    -9.0\n",
       "1     NaN\n",
       "2    -4.0\n",
       "3     NaN\n",
       "4   -10.0\n",
       "5     NaN\n",
       "6     NaN\n",
       "dtype: float64"
      ]
     },
     "execution_count": 13,
     "metadata": {},
     "output_type": "execute_result"
    }
   ],
   "source": [
    "s1-s2"
   ]
  },
  {
   "cell_type": "code",
   "execution_count": 14,
   "id": "379d9114",
   "metadata": {},
   "outputs": [
    {
     "data": {
      "text/plain": [
       "0    15.0\n",
       "1     NaN\n",
       "2    16.0\n",
       "3     NaN\n",
       "4    30.0\n",
       "5     NaN\n",
       "6     NaN\n",
       "dtype: float64"
      ]
     },
     "execution_count": 14,
     "metadata": {},
     "output_type": "execute_result"
    }
   ],
   "source": [
    "s1+s2"
   ]
  },
  {
   "cell_type": "code",
   "execution_count": 15,
   "id": "b09f4e78",
   "metadata": {},
   "outputs": [
    {
     "data": {
      "text/plain": [
       "0    4.000000\n",
       "1         NaN\n",
       "2    1.666667\n",
       "3         NaN\n",
       "4    2.000000\n",
       "5         NaN\n",
       "6         NaN\n",
       "dtype: float64"
      ]
     },
     "execution_count": 15,
     "metadata": {},
     "output_type": "execute_result"
    }
   ],
   "source": [
    "s2/s1"
   ]
  },
  {
   "cell_type": "code",
   "execution_count": 18,
   "id": "9185790e",
   "metadata": {},
   "outputs": [],
   "source": [
    "import numpy as np\n",
    "data = np.array(['a', 'b', 'c', 'd', 'e', 'f'])\n",
    "S = pd. Series(data, index = [100, 101, 102, 103, 104, 105])\n",
    "\n"
   ]
  },
  {
   "cell_type": "code",
   "execution_count": 20,
   "id": "baf7bc1a",
   "metadata": {},
   "outputs": [
    {
     "ename": "ValueError",
     "evalue": "Length of values (4) does not match length of index (7)",
     "output_type": "error",
     "traceback": [
      "\u001b[1;31m---------------------------------------------------------------------------\u001b[0m",
      "\u001b[1;31mValueError\u001b[0m                                Traceback (most recent call last)",
      "\u001b[1;32m~\\AppData\\Local\\Temp/ipykernel_10224/3513040173.py\u001b[0m in \u001b[0;36m<module>\u001b[1;34m\u001b[0m\n\u001b[1;32m----> 1\u001b[1;33m \u001b[0mS2\u001b[0m \u001b[1;33m=\u001b[0m \u001b[0mpd\u001b[0m\u001b[1;33m.\u001b[0m \u001b[0mSeries\u001b[0m \u001b[1;33m(\u001b[0m\u001b[1;33m[\u001b[0m\u001b[1;36m1\u001b[0m\u001b[1;33m,\u001b[0m \u001b[1;36m2\u001b[0m\u001b[1;33m,\u001b[0m \u001b[1;36m3\u001b[0m\u001b[1;33m,\u001b[0m \u001b[1;36m4\u001b[0m\u001b[1;33m]\u001b[0m\u001b[1;33m,\u001b[0m \u001b[0mindex\u001b[0m \u001b[1;33m=\u001b[0m \u001b[0mrange\u001b[0m \u001b[1;33m(\u001b[0m\u001b[1;36m7\u001b[0m\u001b[1;33m)\u001b[0m\u001b[1;33m)\u001b[0m\u001b[1;33m\u001b[0m\u001b[1;33m\u001b[0m\u001b[0m\n\u001b[0m",
      "\u001b[1;32m~\\anaconda3\\lib\\site-packages\\pandas\\core\\series.py\u001b[0m in \u001b[0;36m__init__\u001b[1;34m(self, data, index, dtype, name, copy, fastpath)\u001b[0m\n\u001b[0;32m    428\u001b[0m                 \u001b[0mindex\u001b[0m \u001b[1;33m=\u001b[0m \u001b[0mibase\u001b[0m\u001b[1;33m.\u001b[0m\u001b[0mdefault_index\u001b[0m\u001b[1;33m(\u001b[0m\u001b[0mlen\u001b[0m\u001b[1;33m(\u001b[0m\u001b[0mdata\u001b[0m\u001b[1;33m)\u001b[0m\u001b[1;33m)\u001b[0m\u001b[1;33m\u001b[0m\u001b[1;33m\u001b[0m\u001b[0m\n\u001b[0;32m    429\u001b[0m             \u001b[1;32melif\u001b[0m \u001b[0mis_list_like\u001b[0m\u001b[1;33m(\u001b[0m\u001b[0mdata\u001b[0m\u001b[1;33m)\u001b[0m\u001b[1;33m:\u001b[0m\u001b[1;33m\u001b[0m\u001b[1;33m\u001b[0m\u001b[0m\n\u001b[1;32m--> 430\u001b[1;33m                 \u001b[0mcom\u001b[0m\u001b[1;33m.\u001b[0m\u001b[0mrequire_length_match\u001b[0m\u001b[1;33m(\u001b[0m\u001b[0mdata\u001b[0m\u001b[1;33m,\u001b[0m \u001b[0mindex\u001b[0m\u001b[1;33m)\u001b[0m\u001b[1;33m\u001b[0m\u001b[1;33m\u001b[0m\u001b[0m\n\u001b[0m\u001b[0;32m    431\u001b[0m \u001b[1;33m\u001b[0m\u001b[0m\n\u001b[0;32m    432\u001b[0m             \u001b[1;31m# create/copy the manager\u001b[0m\u001b[1;33m\u001b[0m\u001b[1;33m\u001b[0m\u001b[0m\n",
      "\u001b[1;32m~\\anaconda3\\lib\\site-packages\\pandas\\core\\common.py\u001b[0m in \u001b[0;36mrequire_length_match\u001b[1;34m(data, index)\u001b[0m\n\u001b[0;32m    529\u001b[0m     \"\"\"\n\u001b[0;32m    530\u001b[0m     \u001b[1;32mif\u001b[0m \u001b[0mlen\u001b[0m\u001b[1;33m(\u001b[0m\u001b[0mdata\u001b[0m\u001b[1;33m)\u001b[0m \u001b[1;33m!=\u001b[0m \u001b[0mlen\u001b[0m\u001b[1;33m(\u001b[0m\u001b[0mindex\u001b[0m\u001b[1;33m)\u001b[0m\u001b[1;33m:\u001b[0m\u001b[1;33m\u001b[0m\u001b[1;33m\u001b[0m\u001b[0m\n\u001b[1;32m--> 531\u001b[1;33m         raise ValueError(\n\u001b[0m\u001b[0;32m    532\u001b[0m             \u001b[1;34m\"Length of values \"\u001b[0m\u001b[1;33m\u001b[0m\u001b[1;33m\u001b[0m\u001b[0m\n\u001b[0;32m    533\u001b[0m             \u001b[1;34mf\"({len(data)}) \"\u001b[0m\u001b[1;33m\u001b[0m\u001b[1;33m\u001b[0m\u001b[0m\n",
      "\u001b[1;31mValueError\u001b[0m: Length of values (4) does not match length of index (7)"
     ]
    }
   ],
   "source": [
    "S2 = pd. Series ([1, 2, 3, 4], index = range (7))"
   ]
  },
  {
   "cell_type": "code",
   "execution_count": 28,
   "id": "4691344e",
   "metadata": {},
   "outputs": [
    {
     "name": "stdout",
     "output_type": "stream",
     "text": [
      "ram      1\n",
      "sita     2\n",
      "riya     3\n",
      "priya    4\n",
      "rocky    5\n",
      "dtype: int64\n"
     ]
    }
   ],
   "source": [
    "import pandas as pd\n",
    "di={'ram':1,'sita':2,'riya':3,'priya':4,'rocky':5}\n",
    "friends=pd.Series(di)\n",
    "print(friends)"
   ]
  },
  {
   "cell_type": "code",
   "execution_count": 29,
   "id": "987fb923",
   "metadata": {},
   "outputs": [
    {
     "name": "stdout",
     "output_type": "stream",
     "text": [
      "1     31\n",
      "2     28\n",
      "3     31\n",
      "4     30\n",
      "5     31\n",
      "6     30\n",
      "7     31\n",
      "8     31\n",
      "9     30\n",
      "10    31\n",
      "11    30\n",
      "12    31\n",
      "dtype: int32\n"
     ]
    }
   ],
   "source": [
    "import pandas as pd\n",
    "import numpy as np\n",
    "array1 = np.array([31,28,31,30,31,30,31,31,30,31,30,31])\n",
    "MonthDays = pd.Series(array1,index=[1,2,3,4,5,6,7,8,9,10,11,12])\n",
    "print(MonthDays)"
   ]
  },
  {
   "cell_type": "code",
   "execution_count": null,
   "id": "3fbaf9fb",
   "metadata": {},
   "outputs": [],
   "source": []
  }
 ],
 "metadata": {
  "kernelspec": {
   "display_name": "Python 3 (ipykernel)",
   "language": "python",
   "name": "python3"
  },
  "language_info": {
   "codemirror_mode": {
    "name": "ipython",
    "version": 3
   },
   "file_extension": ".py",
   "mimetype": "text/x-python",
   "name": "python",
   "nbconvert_exporter": "python",
   "pygments_lexer": "ipython3",
   "version": "3.9.7"
  }
 },
 "nbformat": 4,
 "nbformat_minor": 5
}
